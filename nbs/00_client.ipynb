{
 "cells": [
  {
   "cell_type": "markdown",
   "metadata": {},
   "source": [
    "# client\n",
    "\n",
    "> SDK to interact with the Agora-Fewsats Marketplace API"
   ]
  },
  {
   "cell_type": "code",
   "execution_count": null,
   "metadata": {},
   "outputs": [],
   "source": [
    "#| default_exp client"
   ]
  },
  {
   "cell_type": "code",
   "execution_count": null,
   "metadata": {},
   "outputs": [],
   "source": [
    "import os\n",
    "import httpx\n",
    "import json\n",
    "import uuid\n",
    "from typing import Dict, List, Optional, Any, Union\n",
    "from agora.config import *\n",
    "from agora.crypto import *\n",
    "\n",
    "from fastcore.utils import *\n"
   ]
  },
  {
   "cell_type": "code",
   "execution_count": null,
   "metadata": {},
   "outputs": [],
   "source": [
    "# Test values\n",
    "\n",
    "test_product_id = \"678f61ec0205c9203bc07a45\"\n",
    "test_variant_id = 42884194664644\n",
    "\n",
    "test_shipping_address = {\n",
    "                \"addressFirst\": \"123 Main St\",\n",
    "                \"city\": \"New York\",\n",
    "                \"state\": \"NY\",\n",
    "                \"country\": \"US\",\n",
    "                \"addressName\": \"Home\",\n",
    "                \"zipCode\": \"10001\"\n",
    "            }\n",
    "test_user = {\n",
    "                \"firstname\": \"John\",\n",
    "                \"lastname\": \"Doe\",\n",
    "                \"email\": \"john@example.com\",\n",
    "                \"_id\": \"user123\"\n",
    "            }"
   ]
  },
  {
   "cell_type": "code",
   "execution_count": null,
   "metadata": {},
   "outputs": [],
   "source": [
    "#| export\n",
    "\n",
    "\n",
    "class Agora:\n",
    "    \"\"\"\n",
    "    Client for the Agora-Fewsats Marketplace API.\n",
    "    \n",
    "    This client provides methods to interact with the Agora-Fewsats Marketplace API,\n",
    "    including product search, cart management, and checkout functionality.\n",
    "    \"\"\"\n",
    "    \n",
    "    def __init__(self, base_url: str = \"https://agora-backend.replit.app/api/v1\", private_key: str = ''):\n",
    "        \"\"\"\n",
    "        Initialize the Agora Marketplace client.\n",
    "        \n",
    "        Args:\n",
    "            base_url: The base URL of the Agora-Fewsats Backend API.\n",
    "            private_key: The private key of the Agora-Fewsats Backend API. If not provided,\n",
    "                         a random UUID will be generated.\n",
    "        \"\"\"\n",
    "        self.base_url = base_url\n",
    "\n",
    "        cfg = get_cfg()\n",
    "\n",
    "        if private_key: self.pk, self.pub = from_pk_hex(private_key) # if provided use the private key\n",
    "        elif cfg.priv: self.pk, self.pub = from_pk_hex(cfg.priv) # if not provided use the private key from the config file\n",
    "        else: \n",
    "            self.pk, self.pub = generate_keys()\n",
    "            save_cfg({'priv': priv_key_hex(self.pk)})\n",
    "\n",
    "        self.mongo_id = self.pub[:24] # agora uses mongoDB so the related user-objectId needs to be 24 characters\n",
    "\n",
    "        self.client = httpx.Client(timeout=30.0)\n",
    "        self.client.headers.update({\"customuserid\": self.mongo_id})\n",
    "\n",
    "    def _make_request(self, method: str, endpoint: str, **kwargs) -> httpx.Response:\n",
    "        \"\"\"\n",
    "        Make a request to the Agora-Fewsats Backend API.\n",
    "        \n",
    "        Args:\n",
    "            method: The HTTP method to use.\n",
    "            endpoint: The API endpoint to call.\n",
    "            **kwargs: Additional arguments to pass to httpx.\n",
    "            \n",
    "        Returns:\n",
    "            The response from the API.\n",
    "        \"\"\"\n",
    "        url = f\"{self.base_url}/{endpoint}\"\n",
    "        response = self.client.request(method, url, **kwargs)\n",
    "        \n",
    "        \n",
    "        return response\n",
    "        \n",
    "    def search_products(self, query: str, count: int = 20, page: int = 1, \n",
    "                         price_min: int = 0, price_max: Optional[int] = None, \n",
    "                         sort: Optional[str] = None, order: Optional[str] = None) -> Dict:\n",
    "        \"\"\"\n",
    "        Search for products.\n",
    "        \n",
    "        Args:\n",
    "            query: The search query.\n",
    "            count: The number of products to return per page.\n",
    "            page: The page number.\n",
    "            price_min: The minimum price.\n",
    "            price_max: The maximum price.\n",
    "            sort: The sort field.\n",
    "            order: The sort order.\n",
    "            \n",
    "        Returns:\n",
    "            The search results.\n",
    "        \"\"\"\n",
    "        params = {\n",
    "            \"q\": query,\n",
    "            \"count\": count,\n",
    "            \"page\": page,\n",
    "            \"price_min\": price_min\n",
    "        }\n",
    "        \n",
    "        if price_max is not None:\n",
    "            params[\"price_max\"] = price_max\n",
    "        if sort is not None:\n",
    "            params[\"sort\"] = sort\n",
    "        if order is not None:\n",
    "            params[\"order\"] = order\n",
    "            \n",
    "        return self._make_request(\"GET\", \"search\", params=params)\n"
   ]
  },
  {
   "cell_type": "code",
   "execution_count": null,
   "metadata": {},
   "outputs": [
    {
     "data": {
      "text/plain": [
       "{'_id': '678cfe72202868c9fd812284',\n",
       " 'name': 'Favorite Shirt',\n",
       " 'storeName': 'Harper & Tucker',\n",
       " 'brand': 'Stillwater',\n",
       " 'slug': 'favorite-shirt-a97905a6-11c3-4fb8-8fec-86adf3b97517-1737293426144',\n",
       " 'price': 150,\n",
       " 'source': 'shopify',\n",
       " 'images': ['https://cdn.shopify.com/s/files/1/1403/9469/files/FavoriteShirt-WhitePoplin-Front.png?v=1722961682'],\n",
       " 'url': 'https://harperandtucker.com/products/favorite-shirt',\n",
       " 'agoraScore': 92,\n",
       " 'priceHistory': [{'price': 150,\n",
       "   'date': '2025-01-19T13:30:26.169Z',\n",
       "   '_id': '678cfe72202868c9fd81246c'}],\n",
       " '_rankingScore': 0.72265625,\n",
       " '_combinedScoreData': {'clipScore': 0.677734375,\n",
       "  'cohereScore': 0.72265625,\n",
       "  'maxScore': 0.72265625,\n",
       "  'bestEmbedding': 'cohere',\n",
       "  'position': 0},\n",
       " '_adjustedScore': 0.72265625}"
      ]
     },
     "execution_count": null,
     "metadata": {},
     "output_type": "execute_result"
    }
   ],
   "source": [
    "a = Agora()\n",
    "# a = Agora(base_url=\"http://localhost:8000/api/v1\")\n",
    "r = a.search_products(\"shirt\")\n",
    "p = r.json()[\"Products\"][0]\n",
    "p"
   ]
  },
  {
   "cell_type": "code",
   "execution_count": null,
   "metadata": {},
   "outputs": [],
   "source": [
    "#| export\n",
    "\n",
    "@patch    \n",
    "def get_product_detail(self: Agora, slug: str) -> Dict:\n",
    "    \"\"\"\n",
    "    Get details for a specific product.\n",
    "    \n",
    "    Args:\n",
    "        slug: The product slug.\n",
    "        \n",
    "    Returns:\n",
    "        The product details.\n",
    "    \"\"\"\n",
    "    params = {\"slug\": slug}\n",
    "    return self._make_request(\"GET\", \"product-detail\", params=params)\n"
   ]
  },
  {
   "cell_type": "code",
   "execution_count": null,
   "metadata": {},
   "outputs": [
    {
     "data": {
      "text/plain": [
       "{'status': 'success',\n",
       " 'product': {'_id': '678cfe72202868c9fd812284',\n",
       "  'keywords': [],\n",
       "  'name': 'Favorite Shirt',\n",
       "  'storeName': 'Harper & Tucker',\n",
       "  'brand': 'Stillwater',\n",
       "  'tags': ['Core', 'Foundations', 'Spring', 'Summer'],\n",
       "  'description': '\\n\\n<div>\\n<div>\\n STYLE\\n<div>Button down shirt <br />Collared <br />Two breast pockets <br />Long hemline can be tucked in or worn loose <br />Long sleeves <br />Unlined</div>\\n</div>\\n<div>\\n FIT\\n<div>Relaxed, oversized fit</div>\\n</div>\\n<div>\\n MATERIALS &amp; PRODUCTION\\n<div>Gauze Fabrication - 100% Cotton\\xa0<br /><br />Made in Los Angeles, CA</div>\\n</div>\\n</div>',\n",
       "  'country': 'US',\n",
       "  'currency': 'USD',\n",
       "  'slug': 'favorite-shirt-a97905a6-11c3-4fb8-8fec-86adf3b97517-1737293426144',\n",
       "  'price': '150.00',\n",
       "  'externalProductId': '8239479095526',\n",
       "  'published_at': '2024-04-24T13:38:32.000Z',\n",
       "  'last_updated': '2025-01-19T13:30:25.000Z',\n",
       "  'verifiedAt': '2025-01-19T13:30:26.144Z',\n",
       "  'isVerified': False,\n",
       "  'isBoosted': False,\n",
       "  'source': 'shopify',\n",
       "  'images': ['https://cdn.shopify.com/s/files/1/1403/9469/files/FavoriteShirt-WhitePoplin-Front.png?v=1722961682',\n",
       "   'https://cdn.shopify.com/s/files/1/1403/9469/files/FavoriteShirt-WhitePoplin-Back.png?v=1722961682',\n",
       "   'https://cdn.shopify.com/s/files/1/1403/9469/files/GauzeFavoriteShirt-Black-Front_93682c18-3149-4acc-968b-b4b7c31aa8f9.png?v=1722961689',\n",
       "   'https://cdn.shopify.com/s/files/1/1403/9469/files/GauzeFavoriteShirt-Black-Side.png?v=1722961689',\n",
       "   'https://cdn.shopify.com/s/files/1/1403/9469/files/BarcelonaShorts-White-Front_820204cd-905b-4ef0-aee2-66ff5710226d.png?v=1722961689',\n",
       "   'https://cdn.shopify.com/s/files/1/1403/9469/files/GauzeFavoriteShirt-White-Editorial.png?v=1722961689',\n",
       "   'https://cdn.shopify.com/s/files/1/1403/9469/files/GauzeFavoriteShirt-White-FrontTucked.png?v=1722961689',\n",
       "   'https://cdn.shopify.com/s/files/1/1403/9469/files/GauzeFavoriteShirt-White-Back.png?v=1722961689',\n",
       "   'https://cdn.shopify.com/s/files/1/1403/9469/files/GauzeFavoriteShirt-Sand-FrontTucked.png?v=1722961689',\n",
       "   'https://cdn.shopify.com/s/files/1/1403/9469/files/GauzeFavoriteShirt-Sand-Side.png?v=1722961689',\n",
       "   'https://cdn.shopify.com/s/files/1/1403/9469/files/GauzeFavoriteShirt-Sand-Back.png?v=1722961689'],\n",
       "  'url': 'https://harperandtucker.com/products/favorite-shirt',\n",
       "  'creator': '653635e3ac59b9ce433479f9',\n",
       "  'updatedAt': '2025-03-06T04:06:52.978Z',\n",
       "  'createdAt': '2025-01-19T13:30:26.363Z',\n",
       "  '__v': 2,\n",
       "  'agoraScore': 92,\n",
       "  'priceHistory': [{'price': 150,\n",
       "    'date': '2025-01-19T13:30:26.169Z',\n",
       "    '_id': '678cfe72202868c9fd81246c'}],\n",
       "  'discountVal': 0,\n",
       "  'primaryKey': '678cfe72202868c9fd812284',\n",
       "  'inStock': True,\n",
       "  'options': [{'name': 'Color',\n",
       "    'position': 1,\n",
       "    'values': ['White Poplin', 'Black Gauze', 'White Gauze', 'Sand Gauze']},\n",
       "   {'name': 'Size', 'position': 2, 'values': ['XS', 'S', 'M', 'L']}]}}"
      ]
     },
     "execution_count": null,
     "metadata": {},
     "output_type": "execute_result"
    }
   ],
   "source": [
    "r = a.get_product_detail(p['slug'])\n",
    "r.json()"
   ]
  },
  {
   "cell_type": "code",
   "execution_count": null,
   "metadata": {},
   "outputs": [],
   "source": [
    "#| export\n",
    "\n",
    "@patch\n",
    "def get_cart(self: Agora) -> Dict:\n",
    "    \"\"\"\n",
    "    Get the current user's cart.\n",
    "    \n",
    "    Returns:\n",
    "        The cart details.\n",
    "    \"\"\"\n",
    "    return self._make_request(\"GET\", \"cart\")\n"
   ]
  },
  {
   "cell_type": "code",
   "execution_count": null,
   "metadata": {},
   "outputs": [
    {
     "data": {
      "text/plain": [
       "{'id': 1,\n",
       " 'customuserid': '1dd605e0a67f966bab10ceea',\n",
       " 'created_at': 1742573592,\n",
       " 'updated_at': 1742573592,\n",
       " 'items': []}"
      ]
     },
     "execution_count": null,
     "metadata": {},
     "output_type": "execute_result"
    }
   ],
   "source": [
    "r = a.get_cart()\n",
    "r.json()"
   ]
  },
  {
   "cell_type": "code",
   "execution_count": null,
   "metadata": {},
   "outputs": [],
   "source": [
    "#| export\n",
    "  \n",
    "@patch\n",
    "def add_to_cart(self: Agora, slug: str, product_id: str, variant_id: str = None, quantity: int = 1) -> Dict:\n",
    "    \"\"\"\n",
    "    Add an item to the user's cart. Somem products do not have variants, in such cases use the product_id as variant_id too.\n",
    "    \n",
    "    Args:\n",
    "        slug: The product slug.\n",
    "        product_id: The product ID.\n",
    "        variant_id: The product variant ID.\n",
    "        quantity: The quantity to add.\n",
    "        \n",
    "    Returns:\n",
    "        The updated cart.\n",
    "    \"\"\"\n",
    "    item = {\n",
    "        \"slug\": slug,\n",
    "        \"product_id\": product_id,\n",
    "        \"variant_id\": variant_id if variant_id else product_id,\n",
    "        \"quantity\": quantity,\n",
    "    }\n",
    "    \n",
    "    return self._make_request(\"POST\", \"cart/items\", json=item)\n"
   ]
  },
  {
   "cell_type": "code",
   "execution_count": null,
   "metadata": {},
   "outputs": [
    {
     "data": {
      "text/plain": [
       "(200,\n",
       " {'id': 1,\n",
       "  'customuserid': '1dd605e0a67f966bab10ceea',\n",
       "  'created_at': 1742573592,\n",
       "  'updated_at': 1742573592,\n",
       "  'items': [{'id': 1,\n",
       "    'product_id': '678cfe72202868c9fd812284',\n",
       "    'variant_id': '678cfe72202868c9fd812284',\n",
       "    'quantity': 1,\n",
       "    'title': 'Favorite Shirt by Stillwater',\n",
       "    'description': 'Favorite Shirt by Stillwater from Harper & Tucker',\n",
       "    'amount': 15000,\n",
       "    'currency': 'USD',\n",
       "    'slug': 'favorite-shirt-a97905a6-11c3-4fb8-8fec-86adf3b97517-1737293426144'}]})"
      ]
     },
     "execution_count": null,
     "metadata": {},
     "output_type": "execute_result"
    }
   ],
   "source": [
    "r = a.add_to_cart(p['slug'], p['_id'])\n",
    "r.status_code, r.json()"
   ]
  },
  {
   "cell_type": "code",
   "execution_count": null,
   "metadata": {},
   "outputs": [],
   "source": [
    "#| export\n",
    "\n",
    "@patch\n",
    "def update_cart_item(self: Agora, slug: str, product_id: str, variant_id: str, quantity: int) -> Dict:\n",
    "    \"\"\"\n",
    "    Update the quantity of an item in the cart. Some products do not have variants, in such cases use the product_id as variant_id too.\n",
    "    \n",
    "    Args:\n",
    "        slug: The product slug.\n",
    "        product_id: The product ID.\n",
    "        variant_id: The product variant ID.\n",
    "        quantity: The new quantity.\n",
    "        \n",
    "    Returns:\n",
    "        The updated cart.\n",
    "    \"\"\"\n",
    "    params = {\n",
    "        \"slug\": slug,\n",
    "        \"product_id\": product_id,\n",
    "        \"variant_id\": variant_id,\n",
    "        \"quantity\": quantity\n",
    "    }\n",
    "    \n",
    "    return self._make_request(\"PUT\", \"cart/items\", params=params)\n",
    "    \n"
   ]
  },
  {
   "cell_type": "code",
   "execution_count": null,
   "metadata": {},
   "outputs": [
    {
     "data": {
      "text/plain": [
       "(200,\n",
       " {'id': 1,\n",
       "  'customuserid': '1dd605e0a67f966bab10ceea',\n",
       "  'created_at': 1742573592,\n",
       "  'updated_at': 1742573593,\n",
       "  'items': [{'id': 1,\n",
       "    'product_id': '678cfe72202868c9fd812284',\n",
       "    'variant_id': '678cfe72202868c9fd812284',\n",
       "    'quantity': 1,\n",
       "    'title': 'Favorite Shirt by Stillwater',\n",
       "    'description': 'Favorite Shirt by Stillwater from Harper & Tucker',\n",
       "    'amount': 15000,\n",
       "    'currency': 'USD',\n",
       "    'slug': 'favorite-shirt-a97905a6-11c3-4fb8-8fec-86adf3b97517-1737293426144'}]})"
      ]
     },
     "execution_count": null,
     "metadata": {},
     "output_type": "execute_result"
    }
   ],
   "source": [
    "r = a.update_cart_item(p['slug'], p['_id'], p['_id'], 1)\n",
    "r.status_code, r.json()\n"
   ]
  },
  {
   "cell_type": "code",
   "execution_count": null,
   "metadata": {},
   "outputs": [],
   "source": [
    "#| export\n",
    "\n",
    "@patch\n",
    "def clear_cart(self: Agora) -> Dict:\n",
    "    \"\"\"\n",
    "    Clear all items from the cart.\n",
    "    \n",
    "    Returns:\n",
    "        The response from the API.\n",
    "    \"\"\"\n",
    "    return self._make_request(\"DELETE\", \"cart\")"
   ]
  },
  {
   "cell_type": "code",
   "execution_count": null,
   "metadata": {},
   "outputs": [
    {
     "data": {
      "text/plain": [
       "(200, {'status': 'success', 'data': None, 'message': 'Cart cleared'})"
      ]
     },
     "execution_count": null,
     "metadata": {},
     "output_type": "execute_result"
    }
   ],
   "source": [
    "r = a.clear_cart()\n",
    "r.status_code, r.json()"
   ]
  },
  {
   "cell_type": "code",
   "execution_count": null,
   "metadata": {},
   "outputs": [],
   "source": [
    "#| export\n",
    "\n",
    "@patch\n",
    "def buy_now(self: Agora, slug: str, product_id: str, variant_id: str, shipping_address: Dict,\n",
    "            user: Dict, quantity: int = 1) -> Dict:\n",
    "    \"\"\"\n",
    "    Purchase a product directly. Some products do not have variants, in such cases use the product_id as variant_id too.\n",
    "    \n",
    "    Args:\n",
    "        slug: The product slug.\n",
    "        product_id: The product ID.\n",
    "        variant_id: The product variant ID.\n",
    "        quantity: The quantity to purchase.\n",
    "        shipping_address: The shipping address.\n",
    "        user: The user information.\n",
    "        \n",
    "    Example:\n",
    "        shipping_address = {\n",
    "            \"addressFirst\": \"123 Main St\",\n",
    "            \"city\": \"New York\",\n",
    "            \"state\": \"NY\",\n",
    "            \"country\": \"US\",\n",
    "            \"addressName\": \"Home\",\n",
    "            \"zipCode\": \"10001\"\n",
    "        }\n",
    "        \n",
    "        user = {\n",
    "            \"firstname\": \"John\",\n",
    "            \"lastname\": \"Doe\",\n",
    "            \"email\": \"john@example.com\",\n",
    "            \"_id\": \"user123\"\n",
    "        }\n",
    "        \n",
    "        a.buy_now(product_id, variant_id, shipping_address, user)\n",
    "        \n",
    "    Returns:\n",
    "        The payment information.\n",
    "    \"\"\"\n",
    "\n",
    "        \n",
    "    request_data = {\n",
    "        \"slug\": slug,\n",
    "        \"product_id\": product_id,\n",
    "        \"variant_id\": variant_id,\n",
    "        \"quantity\": quantity,\n",
    "        \"shipping_address\": shipping_address,\n",
    "        \"user\": user\n",
    "    }\n",
    "    \n",
    "    return self._make_request(\"POST\", \"buy-now\", json=request_data)"
   ]
  },
  {
   "cell_type": "code",
   "execution_count": null,
   "metadata": {},
   "outputs": [
    {
     "data": {
      "text/plain": [
       "(402,\n",
       " {'offers': [{'id': 'c5d7971e-a958-46cd-971b-e1f477bbc0c3',\n",
       "    'amount': 15000,\n",
       "    'currency': 'USD',\n",
       "    'description': 'Favorite Shirt by Stillwater from Harper & Tucker',\n",
       "    'title': 'Favorite Shirt by Stillwater',\n",
       "    'payment_methods': ['lightning', 'credit_card'],\n",
       "    'type': 'one-off'}],\n",
       "  'payment_context_token': 'cd286fc4-fdd5-4dff-a806-d0e61b6b8fb5',\n",
       "  'payment_request_url': 'https://api.fewsats.com/v0/l402/payment-request',\n",
       "  'version': '0.2.2'})"
      ]
     },
     "execution_count": null,
     "metadata": {},
     "output_type": "execute_result"
    }
   ],
   "source": [
    "r = a.buy_now(p['slug'], p['_id'], p['_id'], test_shipping_address, test_user, quantity=1)\n",
    "r.status_code, r.json()"
   ]
  },
  {
   "cell_type": "code",
   "execution_count": null,
   "metadata": {},
   "outputs": [],
   "source": [
    "# test webhook \n",
    "offers = r.json()\n",
    "\n",
    "from datetime import datetime, timezone\n",
    "\n",
    "# Your existing data from buy_now\n",
    "offer_id = offers['offers'][0]['id']\n",
    "payment_context_token = offers['payment_context_token']\n",
    "amount = offers['offers'][0]['amount']\n",
    "currency = offers['offers'][0]['currency']\n",
    "\n",
    "# Create a webhook payload\n",
    "payload = {\n",
    "    \"offer_id\": offer_id,\n",
    "    \"payment_context_token\": payment_context_token,\n",
    "    \"amount\": amount,\n",
    "    \"currency\": currency,\n",
    "    \"status\": \"succeeded\",  # Use 'succeeded' to simulate successful payment\n",
    "    \"timestamp\": datetime.now(timezone.utc).isoformat()\n",
    "}\n",
    "\n",
    "# Send the request to your webhook endpoint\n",
    "url = f\"{a.base_url}/webhook/payment\"  # Adjust if your server is running elsewhere\n",
    "# url = \"http://localhost:8000/api/v1/webhook/payment\"  # Adjust if your server is running elsewhere\n",
    "response = httpx.post(url, json=payload)\n"
   ]
  },
  {
   "cell_type": "code",
   "execution_count": null,
   "metadata": {},
   "outputs": [],
   "source": [
    "#| export\n",
    "   \n",
    "@patch\n",
    "def get_order(self: Agora, order_id: int) -> Dict:\n",
    "    \"\"\"\n",
    "    Get details for a specific order.\n",
    "    \n",
    "    Args:\n",
    "        order_id: The order ID.\n",
    "        \n",
    "    Returns:\n",
    "        The order details.\n",
    "    \"\"\"\n",
    "    return self._make_request(\"GET\", f\"orders/{order_id}\")\n",
    "    \n",
    "\n",
    "@patch\n",
    "def get_user_orders(self: Agora) -> List[Dict]:\n",
    "    \"\"\"\n",
    "    Get all orders for the current user.\n",
    "    \n",
    "    Returns:\n",
    "        A list of orders.\n",
    "    \"\"\"\n",
    "    return self._make_request(\"GET\", f\"users/{self.customer_id}/orders\")\n",
    "    "
   ]
  },
  {
   "cell_type": "code",
   "execution_count": null,
   "metadata": {},
   "outputs": [],
   "source": [
    "#| hide\n",
    "import nbdev; nbdev.nbdev_export()"
   ]
  }
 ],
 "metadata": {
  "kernelspec": {
   "display_name": "python3",
   "language": "python",
   "name": "python3"
  }
 },
 "nbformat": 4,
 "nbformat_minor": 4
}
